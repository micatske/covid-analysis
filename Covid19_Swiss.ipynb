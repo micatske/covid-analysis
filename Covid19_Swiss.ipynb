{
 "cells": [
  {
   "cell_type": "code",
   "execution_count": null,
   "source": [
    "import pandas as pd\n",
    "import numpy as np\n",
    "\n",
    "import matplotlib.pyplot as plt\n",
    "from scipy.optimize import curve_fit"
   ],
   "outputs": [],
   "metadata": {}
  },
  {
   "cell_type": "code",
   "execution_count": null,
   "source": [],
   "outputs": [],
   "metadata": {}
  }
 ],
 "metadata": {
  "orig_nbformat": 4,
  "language_info": {
   "name": "python",
   "version": "3.8.10"
  },
  "kernelspec": {
   "name": "python3",
   "display_name": "Python 3.8.10 64-bit ('my_env': venv)"
  },
  "interpreter": {
   "hash": "fa8378c93fa7b2a178fa4c85d71d780374e448b093ea28ef547b151f6fa7cbd3"
  }
 },
 "nbformat": 4,
 "nbformat_minor": 2
}